{
 "cells": [
  {
   "cell_type": "code",
   "execution_count": 1,
   "metadata": {},
   "outputs": [],
   "source": [
    "import pandas as pd\n",
    "import matplotlib.pyplot as plt\n",
    "import numpy as np\n",
    "import seaborn as sn\n",
    "from sklearn.preprocessing import MinMaxScaler\n",
    "from torch.autograd import Variable\n",
    "from sklearn.model_selection import train_test_split\n",
    "from imblearn.over_sampling import RandomOverSampler\n",
    "from sklearn.metrics import classification_report, confusion_matrix\n",
    "from collections import Counter\n",
    "import torch\n",
    "from torch import nn, optim\n",
    "import torch.nn.functional as F\n",
    "import tqdm\n",
    "from tqdm import tnrange\n",
    "#use_cuda = torch.cuda.is_available()\n",
    "device = torch.device(\"cuda\")"
   ]
  },
  {
   "cell_type": "code",
   "execution_count": 2,
   "metadata": {},
   "outputs": [
    {
     "name": "stdout",
     "output_type": "stream",
     "text": [
      "<class 'pandas.core.frame.DataFrame'>\n",
      "RangeIndex: 65628 entries, 0 to 65627\n",
      "Data columns (total 25 columns):\n",
      " #   Column                        Non-Null Count  Dtype\n",
      "---  ------                        --------------  -----\n",
      " 0   Unnamed: 0                    65628 non-null  int64\n",
      " 1   countryName                   65628 non-null  int64\n",
      " 2   eprtrSectorName               65628 non-null  int64\n",
      " 3   EPRTRAnnexIMainActivityLabel  65628 non-null  int64\n",
      " 4   FacilityInspireID             65628 non-null  int64\n",
      " 5   facilityName                  65628 non-null  int64\n",
      " 6   City                          65628 non-null  int64\n",
      " 7   targetRelease                 65628 non-null  int64\n",
      " 8   pollutant                     65628 non-null  int64\n",
      " 9   reportingYear                 65628 non-null  int64\n",
      " 10  MONTH                         65628 non-null  int64\n",
      " 11  DAY                           65628 non-null  int64\n",
      " 12  CONTINENT                     65628 non-null  int64\n",
      " 13  max_wind_speed                65628 non-null  int64\n",
      " 14  avg_wind_speed                65628 non-null  int64\n",
      " 15  min_wind_speed                65628 non-null  int64\n",
      " 16  max_temp                      65628 non-null  int64\n",
      " 17  avg_temp                      65628 non-null  int64\n",
      " 18  min_temp                      65628 non-null  int64\n",
      " 19  DAY WITH FOGS                 65628 non-null  int64\n",
      " 20  REPORTER NAME                 65628 non-null  int64\n",
      " 21  CITY ID                       65628 non-null  int64\n",
      " 22  Unnamed: 22                   65628 non-null  int64\n",
      " 23  EPRTRAnnexIMainActivityCode   65628 non-null  int64\n",
      " 24  EPRTRSectorCode               65628 non-null  int64\n",
      "dtypes: int64(25)\n",
      "memory usage: 12.5 MB\n"
     ]
    }
   ],
   "source": [
    "train=pd.read_csv(\"train_total.csv\",index_col=False)\n",
    "train.info()"
   ]
  },
  {
   "cell_type": "code",
   "execution_count": 3,
   "metadata": {},
   "outputs": [
    {
     "data": {
      "text/plain": [
       "(65628, 13)"
      ]
     },
     "execution_count": 3,
     "metadata": {},
     "output_type": "execute_result"
    }
   ],
   "source": [
    "pca_3=['countryName','EPRTRAnnexIMainActivityLabel','FacilityInspireID','City',\n",
    "       'MONTH','max_wind_speed', 'avg_wind_speed', \n",
    "       'min_wind_speed','max_temp','avg_temp', 'min_temp','DAY WITH FOGS', 'REPORTER NAME']\n",
    "x=train[pca_3]#.values\n",
    "y=train['pollutant']#.values#.reshape((65628,1))\n",
    "x.shape"
   ]
  },
  {
   "cell_type": "code",
   "execution_count": 4,
   "metadata": {},
   "outputs": [],
   "source": [
    "x_train, x_test, y_train, y_test = train_test_split(x, y, random_state=0,test_size=0.3)\n",
    "x_test, x_val, y_test, y_val = train_test_split(x_test, y_test, random_state=0,test_size=0.5)"
   ]
  },
  {
   "cell_type": "code",
   "execution_count": 5,
   "metadata": {},
   "outputs": [
    {
     "name": "stdout",
     "output_type": "stream",
     "text": [
      "Batch size: 4594\n"
     ]
    }
   ],
   "source": [
    "f=10 # no. of batches #15\n",
    "\n",
    "train_batch = np.array_split(x_train, f) \n",
    "label_batch = np.array_split(y_train, f) \n",
    "\n",
    "val_batch = np.array_split(x_val, f)\n",
    "val_label_batch = np.array_split(y_val, f)\n",
    "\n",
    "test_batch = np.array_split(x_test, f)\n",
    "test_label_batch = np.array_split(y_test, f)\n",
    "\n",
    "\n",
    "for i in range(len(train_batch)):\n",
    "    train_batch[i] = torch.from_numpy(train_batch[i].values).float()\n",
    "for i in range(len(label_batch)):\n",
    "    label_batch[i] = torch.from_numpy(label_batch[i].values).float().view(-1, 1)\n",
    "\n",
    "for i in range(len(val_batch)):\n",
    "    val_batch[i] = torch.from_numpy(val_batch[i].values).float()\n",
    "for i in range(len(val_label_batch)):\n",
    "    val_label_batch[i] = torch.from_numpy(val_label_batch[i].values).float().view(-1, 1)\n",
    "    \n",
    "for i in range(len(test_batch)):\n",
    "    test_batch[i] = torch.from_numpy(test_batch[i].values).float()\n",
    "for i in range(len(test_label_batch)):\n",
    "    test_label_batch[i] = torch.from_numpy(test_label_batch[i].values).float().view(-1, 1)\n",
    "    \n",
    "    \n",
    "\n",
    "    \n",
    "print(\"Batch size:\", len(train_batch[0]))"
   ]
  },
  {
   "cell_type": "code",
   "execution_count": 8,
   "metadata": {},
   "outputs": [],
   "source": [
    "class Regressor(nn.Module):#87%\n",
    "    def __init__(self):\n",
    "        super().__init__()\n",
    "        \n",
    "        self.fc1 = nn.Linear(13, 15)\n",
    "        self.fc2 = nn.Linear(15, 17)\n",
    "        self.fc3 = nn.Linear(17, 19)\n",
    "        self.fc4 = nn.Linear(19, 25)\n",
    "        self.fc5 = nn.Linear(25, 25)\n",
    "        self.fc6 = nn.Linear(25, 25)\n",
    "        self.fc7 = nn.Linear(25, 3)\n",
    "        self.fc8 = nn.Linear(3, 1)\n",
    "       \n",
    "    def forward(self, x):\n",
    "        \n",
    "        x = F.relu(self.fc1(x))\n",
    "        x = F.relu(self.fc2(x))\n",
    "        x = F.relu(self.fc3(x))\n",
    "        x = F.relu(self.fc4(x))\n",
    "        x = F.relu(self.fc5(x))\n",
    "        x = F.relu(self.fc6(x))\n",
    "        x = F.relu(self.fc7(x))\n",
    "        x = F.relu(self.fc8(x))\n",
    "\n",
    "        return x\n",
    "    \n",
    "model = Regressor()\n",
    "train_losses, val_losses = [], []\n",
    "criterion = nn.MSELoss()\n",
    "optimizer = optim.Adamax(model.parameters(), lr=0.01) # 0.015 87\n",
    "scheduler = torch.optim.lr_scheduler.ReduceLROnPlateau(optimizer, 'min',factor=0.01, patience=15) \n",
    "total_epochs=0"
   ]
  },
  {
   "cell_type": "code",
   "execution_count": 9,
   "metadata": {},
   "outputs": [
    {
     "name": "stderr",
     "output_type": "stream",
     "text": [
      "C:\\Users\\ivanl\\AppData\\Local\\Temp/ipykernel_7804/3967188832.py:4: TqdmDeprecationWarning: Please use `tqdm.notebook.trange` instead of `tqdm.tnrange`\n",
      "  for e in tnrange(epochs):\n"
     ]
    },
    {
     "data": {
      "application/vnd.jupyter.widget-view+json": {
       "model_id": "f5da20a27c294ee5afef004e3801b09a",
       "version_major": 2,
       "version_minor": 0
      },
      "text/plain": [
       "  0%|          | 0/400 [00:00<?, ?it/s]"
      ]
     },
     "metadata": {},
     "output_type": "display_data"
    },
    {
     "name": "stdout",
     "output_type": "stream",
     "text": [
      "Epoch : 0 train_loss : 37.86270986795425 Val loss:  1.8093427968025206\n",
      "Epoch : 1 train_loss : 1.847102439403534 Val loss:  1.8093427896499634\n",
      "Epoch : 2 train_loss : 1.847102439403534 Val loss:  1.8093427896499634\n",
      "Epoch : 3 train_loss : 1.847102439403534 Val loss:  1.8093427896499634\n",
      "Epoch : 4 train_loss : 1.847102439403534 Val loss:  1.8093427896499634\n",
      "Epoch : 5 train_loss : 1.847102439403534 Val loss:  1.8093427896499634\n",
      "Epoch : 6 train_loss : 1.847102439403534 Val loss:  1.8093427896499634\n",
      "Epoch : 7 train_loss : 1.847102439403534 Val loss:  1.8093427896499634\n",
      "Epoch : 8 train_loss : 1.847102439403534 Val loss:  1.8093427896499634\n",
      "Epoch : 9 train_loss : 1.847102439403534 Val loss:  1.8093427896499634\n",
      "Epoch : 10 train_loss : 1.847102439403534 Val loss:  1.8093427896499634\n",
      "Epoch : 11 train_loss : 1.847102439403534 Val loss:  1.8093427896499634\n",
      "Epoch : 12 train_loss : 1.847102439403534 Val loss:  1.8093427896499634\n",
      "Epoch : 13 train_loss : 1.847102439403534 Val loss:  1.8093427896499634\n",
      "Epoch : 14 train_loss : 1.847102439403534 Val loss:  1.8093427896499634\n",
      "Epoch : 15 train_loss : 1.847102439403534 Val loss:  1.8093427896499634\n",
      "Epoch : 16 train_loss : 1.847102439403534 Val loss:  1.8093427896499634\n",
      "Epoch : 17 train_loss : 1.847102439403534 Val loss:  1.8093427896499634\n",
      "Epoch : 18 train_loss : 1.847102439403534 Val loss:  1.8093427896499634\n",
      "Epoch : 19 train_loss : 1.847102439403534 Val loss:  1.8093427896499634\n",
      "Epoch : 20 train_loss : 1.847102439403534 Val loss:  1.8093427896499634\n",
      "Epoch : 21 train_loss : 1.847102439403534 Val loss:  1.8093427896499634\n",
      "Epoch : 22 train_loss : 1.847102439403534 Val loss:  1.8093427896499634\n",
      "Epoch : 23 train_loss : 1.847102439403534 Val loss:  1.8093427896499634\n",
      "Epoch : 24 train_loss : 1.847102439403534 Val loss:  1.8093427896499634\n",
      "Epoch : 25 train_loss : 1.847102439403534 Val loss:  1.8093427896499634\n",
      "Epoch : 26 train_loss : 1.847102439403534 Val loss:  1.8093427896499634\n",
      "Epoch : 27 train_loss : 1.847102439403534 Val loss:  1.8093427896499634\n",
      "Epoch : 28 train_loss : 1.847102439403534 Val loss:  1.8093427896499634\n",
      "Epoch : 29 train_loss : 1.847102439403534 Val loss:  1.8093427896499634\n",
      "Epoch : 30 train_loss : 1.847102439403534 Val loss:  1.8093427896499634\n",
      "Epoch : 31 train_loss : 1.847102439403534 Val loss:  1.8093427896499634\n",
      "Epoch : 32 train_loss : 1.847102439403534 Val loss:  1.8093427896499634\n",
      "Epoch : 33 train_loss : 1.847102439403534 Val loss:  1.8093427896499634\n",
      "Epoch : 34 train_loss : 1.847102439403534 Val loss:  1.8093427896499634\n",
      "Epoch : 35 train_loss : 1.847102439403534 Val loss:  1.8093427896499634\n",
      "Epoch : 36 train_loss : 1.847102439403534 Val loss:  1.8093427896499634\n",
      "Epoch : 37 train_loss : 1.847102439403534 Val loss:  1.8093427896499634\n",
      "Epoch : 38 train_loss : 1.847102439403534 Val loss:  1.8093427896499634\n",
      "Epoch : 39 train_loss : 1.847102439403534 Val loss:  1.8093427896499634\n",
      "Epoch : 40 train_loss : 1.847102439403534 Val loss:  1.8093427896499634\n",
      "Epoch : 41 train_loss : 1.847102439403534 Val loss:  1.8093427896499634\n",
      "Epoch : 42 train_loss : 1.847102439403534 Val loss:  1.8093427896499634\n",
      "Epoch : 43 train_loss : 1.847102439403534 Val loss:  1.8093427896499634\n",
      "Epoch : 44 train_loss : 1.847102439403534 Val loss:  1.8093427896499634\n",
      "Epoch : 45 train_loss : 1.847102439403534 Val loss:  1.8093427896499634\n",
      "Epoch : 46 train_loss : 1.847102439403534 Val loss:  1.8093427896499634\n",
      "Epoch : 47 train_loss : 1.847102439403534 Val loss:  1.8093427896499634\n",
      "Epoch : 48 train_loss : 1.847102439403534 Val loss:  1.8093427896499634\n",
      "Epoch : 49 train_loss : 1.847102439403534 Val loss:  1.8093427896499634\n",
      "Epoch : 50 train_loss : 1.847102439403534 Val loss:  1.8093427896499634\n",
      "Epoch : 51 train_loss : 1.847102439403534 Val loss:  1.8093427896499634\n",
      "Epoch : 52 train_loss : 1.847102439403534 Val loss:  1.8093427896499634\n",
      "Epoch : 53 train_loss : 1.847102439403534 Val loss:  1.8093427896499634\n",
      "Epoch : 54 train_loss : 1.847102439403534 Val loss:  1.8093427896499634\n",
      "Epoch : 55 train_loss : 1.847102439403534 Val loss:  1.8093427896499634\n",
      "Epoch : 56 train_loss : 1.847102439403534 Val loss:  1.8093427896499634\n",
      "Epoch : 57 train_loss : 1.847102439403534 Val loss:  1.8093427896499634\n",
      "Epoch : 58 train_loss : 1.847102439403534 Val loss:  1.8093427896499634\n",
      "Epoch : 59 train_loss : 1.847102439403534 Val loss:  1.8093427896499634\n",
      "Epoch : 60 train_loss : 1.847102439403534 Val loss:  1.8093427896499634\n",
      "Epoch : 61 train_loss : 1.847102439403534 Val loss:  1.8093427896499634\n",
      "Epoch : 62 train_loss : 1.847102439403534 Val loss:  1.8093427896499634\n",
      "Epoch : 63 train_loss : 1.847102439403534 Val loss:  1.8093427896499634\n",
      "Epoch : 64 train_loss : 1.847102439403534 Val loss:  1.8093427896499634\n",
      "Epoch : 65 train_loss : 1.847102439403534 Val loss:  1.8093427896499634\n",
      "Epoch : 66 train_loss : 1.847102439403534 Val loss:  1.8093427896499634\n",
      "Epoch : 67 train_loss : 1.847102439403534 Val loss:  1.8093427896499634\n",
      "Epoch : 68 train_loss : 1.847102439403534 Val loss:  1.8093427896499634\n",
      "Epoch : 69 train_loss : 1.847102439403534 Val loss:  1.8093427896499634\n",
      "Epoch : 70 train_loss : 1.847102439403534 Val loss:  1.8093427896499634\n",
      "Epoch : 71 train_loss : 1.847102439403534 Val loss:  1.8093427896499634\n",
      "Epoch : 72 train_loss : 1.847102439403534 Val loss:  1.8093427896499634\n",
      "Epoch : 73 train_loss : 1.847102439403534 Val loss:  1.8093427896499634\n",
      "Epoch : 74 train_loss : 1.847102439403534 Val loss:  1.8093427896499634\n",
      "Epoch : 75 train_loss : 1.847102439403534 Val loss:  1.8093427896499634\n",
      "Epoch : 76 train_loss : 1.847102439403534 Val loss:  1.8093427896499634\n",
      "Epoch : 77 train_loss : 1.847102439403534 Val loss:  1.8093427896499634\n",
      "Epoch : 78 train_loss : 1.847102439403534 Val loss:  1.8093427896499634\n",
      "Epoch : 79 train_loss : 1.847102439403534 Val loss:  1.8093427896499634\n",
      "Epoch : 80 train_loss : 1.847102439403534 Val loss:  1.8093427896499634\n",
      "Epoch : 81 train_loss : 1.847102439403534 Val loss:  1.8093427896499634\n",
      "Epoch : 82 train_loss : 1.847102439403534 Val loss:  1.8093427896499634\n",
      "Epoch : 83 train_loss : 1.847102439403534 Val loss:  1.8093427896499634\n"
     ]
    },
    {
     "ename": "KeyboardInterrupt",
     "evalue": "",
     "output_type": "error",
     "traceback": [
      "\u001b[1;31m---------------------------------------------------------------------------\u001b[0m",
      "\u001b[1;31mKeyboardInterrupt\u001b[0m                         Traceback (most recent call last)",
      "\u001b[1;32m~\\AppData\\Local\\Temp/ipykernel_7804/3967188832.py\u001b[0m in \u001b[0;36m<module>\u001b[1;34m\u001b[0m\n\u001b[0;32m     22\u001b[0m             \u001b[1;32mfor\u001b[0m \u001b[0mj\u001b[0m \u001b[1;32min\u001b[0m \u001b[0mrange\u001b[0m\u001b[1;33m(\u001b[0m\u001b[0mlen\u001b[0m\u001b[1;33m(\u001b[0m\u001b[0mval_batch\u001b[0m\u001b[1;33m)\u001b[0m\u001b[1;33m)\u001b[0m\u001b[1;33m:\u001b[0m\u001b[1;33m\u001b[0m\u001b[1;33m\u001b[0m\u001b[0m\n\u001b[0;32m     23\u001b[0m \u001b[1;33m\u001b[0m\u001b[0m\n\u001b[1;32m---> 24\u001b[1;33m                 \u001b[0mval_output\u001b[0m \u001b[1;33m=\u001b[0m \u001b[0mmodel\u001b[0m\u001b[1;33m(\u001b[0m\u001b[0mval_batch\u001b[0m\u001b[1;33m[\u001b[0m\u001b[0mj\u001b[0m\u001b[1;33m]\u001b[0m\u001b[1;33m)\u001b[0m\u001b[1;33m\u001b[0m\u001b[1;33m\u001b[0m\u001b[0m\n\u001b[0m\u001b[0;32m     25\u001b[0m                 \u001b[0mval_loss\u001b[0m \u001b[1;33m=\u001b[0m  \u001b[0mcriterion\u001b[0m\u001b[1;33m(\u001b[0m\u001b[0mval_output\u001b[0m\u001b[1;33m,\u001b[0m \u001b[0mval_label_batch\u001b[0m\u001b[1;33m[\u001b[0m\u001b[0mj\u001b[0m\u001b[1;33m]\u001b[0m\u001b[1;33m)\u001b[0m\u001b[1;33m\u001b[0m\u001b[1;33m\u001b[0m\u001b[0m\n\u001b[0;32m     26\u001b[0m                 \u001b[0mval_loss_1\u001b[0m\u001b[1;33m+=\u001b[0m\u001b[0mval_loss\u001b[0m\u001b[1;33m.\u001b[0m\u001b[0mitem\u001b[0m\u001b[1;33m(\u001b[0m\u001b[1;33m)\u001b[0m\u001b[1;33m\u001b[0m\u001b[1;33m\u001b[0m\u001b[0m\n",
      "\u001b[1;32mc:\\ProgramData\\Miniconda3\\envs\\tfg\\lib\\site-packages\\torch\\nn\\modules\\module.py\u001b[0m in \u001b[0;36m_call_impl\u001b[1;34m(self, *input, **kwargs)\u001b[0m\n\u001b[0;32m   1100\u001b[0m         if not (self._backward_hooks or self._forward_hooks or self._forward_pre_hooks or _global_backward_hooks\n\u001b[0;32m   1101\u001b[0m                 or _global_forward_hooks or _global_forward_pre_hooks):\n\u001b[1;32m-> 1102\u001b[1;33m             \u001b[1;32mreturn\u001b[0m \u001b[0mforward_call\u001b[0m\u001b[1;33m(\u001b[0m\u001b[1;33m*\u001b[0m\u001b[0minput\u001b[0m\u001b[1;33m,\u001b[0m \u001b[1;33m**\u001b[0m\u001b[0mkwargs\u001b[0m\u001b[1;33m)\u001b[0m\u001b[1;33m\u001b[0m\u001b[1;33m\u001b[0m\u001b[0m\n\u001b[0m\u001b[0;32m   1103\u001b[0m         \u001b[1;31m# Do not call functions when jit is used\u001b[0m\u001b[1;33m\u001b[0m\u001b[1;33m\u001b[0m\u001b[1;33m\u001b[0m\u001b[0m\n\u001b[0;32m   1104\u001b[0m         \u001b[0mfull_backward_hooks\u001b[0m\u001b[1;33m,\u001b[0m \u001b[0mnon_full_backward_hooks\u001b[0m \u001b[1;33m=\u001b[0m \u001b[1;33m[\u001b[0m\u001b[1;33m]\u001b[0m\u001b[1;33m,\u001b[0m \u001b[1;33m[\u001b[0m\u001b[1;33m]\u001b[0m\u001b[1;33m\u001b[0m\u001b[1;33m\u001b[0m\u001b[0m\n",
      "\u001b[1;32m~\\AppData\\Local\\Temp/ipykernel_7804/3701577154.py\u001b[0m in \u001b[0;36mforward\u001b[1;34m(self, x)\u001b[0m\n\u001b[0;32m     17\u001b[0m         \u001b[0mx\u001b[0m \u001b[1;33m=\u001b[0m \u001b[0mF\u001b[0m\u001b[1;33m.\u001b[0m\u001b[0mrelu\u001b[0m\u001b[1;33m(\u001b[0m\u001b[0mself\u001b[0m\u001b[1;33m.\u001b[0m\u001b[0mfc2\u001b[0m\u001b[1;33m(\u001b[0m\u001b[0mx\u001b[0m\u001b[1;33m)\u001b[0m\u001b[1;33m)\u001b[0m\u001b[1;33m\u001b[0m\u001b[1;33m\u001b[0m\u001b[0m\n\u001b[0;32m     18\u001b[0m         \u001b[0mx\u001b[0m \u001b[1;33m=\u001b[0m \u001b[0mF\u001b[0m\u001b[1;33m.\u001b[0m\u001b[0mrelu\u001b[0m\u001b[1;33m(\u001b[0m\u001b[0mself\u001b[0m\u001b[1;33m.\u001b[0m\u001b[0mfc3\u001b[0m\u001b[1;33m(\u001b[0m\u001b[0mx\u001b[0m\u001b[1;33m)\u001b[0m\u001b[1;33m)\u001b[0m\u001b[1;33m\u001b[0m\u001b[1;33m\u001b[0m\u001b[0m\n\u001b[1;32m---> 19\u001b[1;33m         \u001b[0mx\u001b[0m \u001b[1;33m=\u001b[0m \u001b[0mF\u001b[0m\u001b[1;33m.\u001b[0m\u001b[0mrelu\u001b[0m\u001b[1;33m(\u001b[0m\u001b[0mself\u001b[0m\u001b[1;33m.\u001b[0m\u001b[0mfc4\u001b[0m\u001b[1;33m(\u001b[0m\u001b[0mx\u001b[0m\u001b[1;33m)\u001b[0m\u001b[1;33m)\u001b[0m\u001b[1;33m\u001b[0m\u001b[1;33m\u001b[0m\u001b[0m\n\u001b[0m\u001b[0;32m     20\u001b[0m         \u001b[0mx\u001b[0m \u001b[1;33m=\u001b[0m \u001b[0mF\u001b[0m\u001b[1;33m.\u001b[0m\u001b[0mrelu\u001b[0m\u001b[1;33m(\u001b[0m\u001b[0mself\u001b[0m\u001b[1;33m.\u001b[0m\u001b[0mfc5\u001b[0m\u001b[1;33m(\u001b[0m\u001b[0mx\u001b[0m\u001b[1;33m)\u001b[0m\u001b[1;33m)\u001b[0m\u001b[1;33m\u001b[0m\u001b[1;33m\u001b[0m\u001b[0m\n\u001b[0;32m     21\u001b[0m         \u001b[0mx\u001b[0m \u001b[1;33m=\u001b[0m \u001b[0mF\u001b[0m\u001b[1;33m.\u001b[0m\u001b[0mrelu\u001b[0m\u001b[1;33m(\u001b[0m\u001b[0mself\u001b[0m\u001b[1;33m.\u001b[0m\u001b[0mfc6\u001b[0m\u001b[1;33m(\u001b[0m\u001b[0mx\u001b[0m\u001b[1;33m)\u001b[0m\u001b[1;33m)\u001b[0m\u001b[1;33m\u001b[0m\u001b[1;33m\u001b[0m\u001b[0m\n",
      "\u001b[1;32mc:\\ProgramData\\Miniconda3\\envs\\tfg\\lib\\site-packages\\torch\\nn\\functional.py\u001b[0m in \u001b[0;36mrelu\u001b[1;34m(input, inplace)\u001b[0m\n\u001b[0;32m   1297\u001b[0m         \u001b[0mresult\u001b[0m \u001b[1;33m=\u001b[0m \u001b[0mtorch\u001b[0m\u001b[1;33m.\u001b[0m\u001b[0mrelu_\u001b[0m\u001b[1;33m(\u001b[0m\u001b[0minput\u001b[0m\u001b[1;33m)\u001b[0m\u001b[1;33m\u001b[0m\u001b[1;33m\u001b[0m\u001b[0m\n\u001b[0;32m   1298\u001b[0m     \u001b[1;32melse\u001b[0m\u001b[1;33m:\u001b[0m\u001b[1;33m\u001b[0m\u001b[1;33m\u001b[0m\u001b[0m\n\u001b[1;32m-> 1299\u001b[1;33m         \u001b[0mresult\u001b[0m \u001b[1;33m=\u001b[0m \u001b[0mtorch\u001b[0m\u001b[1;33m.\u001b[0m\u001b[0mrelu\u001b[0m\u001b[1;33m(\u001b[0m\u001b[0minput\u001b[0m\u001b[1;33m)\u001b[0m\u001b[1;33m\u001b[0m\u001b[1;33m\u001b[0m\u001b[0m\n\u001b[0m\u001b[0;32m   1300\u001b[0m     \u001b[1;32mreturn\u001b[0m \u001b[0mresult\u001b[0m\u001b[1;33m\u001b[0m\u001b[1;33m\u001b[0m\u001b[0m\n\u001b[0;32m   1301\u001b[0m \u001b[1;33m\u001b[0m\u001b[0m\n",
      "\u001b[1;31mKeyboardInterrupt\u001b[0m: "
     ]
    }
   ],
   "source": [
    "epochs = 400\n",
    "total_epochs+=epochs\n",
    "\n",
    "for e in tnrange(epochs):\n",
    "    \n",
    "    model.train()\n",
    "    train_loss = 0\n",
    "    val_loss_1=0\n",
    "    val_loss_sum = 0\n",
    "    \n",
    "    for i in range(len(train_batch)):\n",
    "        \n",
    "        optimizer.zero_grad()\n",
    "        output = model(train_batch[i])\n",
    "        loss = criterion(output, label_batch[i])\n",
    "        loss.backward()\n",
    "        optimizer.step()\n",
    "        train_loss += loss.item()\n",
    "    \n",
    "        with torch.no_grad():\n",
    "            \n",
    "            for j in range(len(val_batch)):\n",
    "                \n",
    "                val_output = model(val_batch[j])\n",
    "                val_loss =  criterion(val_output, val_label_batch[j])\n",
    "                val_loss_1+=val_loss.item()\n",
    "        val_loss_sum=val_loss_1/len(val_batch)\n",
    "        \n",
    "        \n",
    "    print(\"Epoch :\", e, \"train_loss :\", train_loss/len(train_batch), \"Val loss: \", val_loss_sum/len(val_batch))    \n",
    "    val_losses.append(val_loss_sum/len(val_batch))    \n",
    "    train_losses.append(train_loss/len(train_batch))   "
   ]
  },
  {
   "cell_type": "code",
   "execution_count": null,
   "metadata": {},
   "outputs": [],
   "source": [
    "\n",
    "frm=10 # does not \n",
    "plt.figure(figsize=(25,15))\n",
    "plt.plot(train_losses[frm:], label='Training loss')\n",
    "plt.plot(val_losses[frm:], label='Validation loss')\n",
    "plt.xlabel(\"Epochs\")\n",
    "plt.ylabel(\"Loss\")\n",
    "plt.grid()\n",
    "plt.legend()\n",
    "#ax = plt.gca()\n",
    "#ax.set_ylim([0, 2])"
   ]
  },
  {
   "cell_type": "code",
   "execution_count": null,
   "metadata": {},
   "outputs": [],
   "source": [
    "correct=0\n",
    "i=0\n",
    "y_pred=[]\n",
    "with torch.no_grad():\n",
    "    for batch in test_batch :\n",
    "        for j in range(len(batch)):\n",
    "            x = model(batch[j])\n",
    "            #print(round(x.item()))\n",
    "            y_pred.append(round(x.item()))\n",
    "#print(y_pred)\n",
    "\n",
    "print(classification_report(y_test, y_pred))"
   ]
  }
 ],
 "metadata": {
  "interpreter": {
   "hash": "3132f7a729275460905ce50538cd1987892ffc1102ba7dba42e211caddde65d4"
  },
  "kernelspec": {
   "display_name": "Python 3.8.11 ('tfg')",
   "language": "python",
   "name": "python3"
  },
  "language_info": {
   "codemirror_mode": {
    "name": "ipython",
    "version": 3
   },
   "file_extension": ".py",
   "mimetype": "text/x-python",
   "name": "python",
   "nbconvert_exporter": "python",
   "pygments_lexer": "ipython3",
   "version": "3.8.11"
  },
  "orig_nbformat": 4
 },
 "nbformat": 4,
 "nbformat_minor": 2
}
