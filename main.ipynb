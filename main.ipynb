{
 "cells": [
  {
   "cell_type": "code",
   "execution_count": 18,
   "metadata": {},
   "outputs": [],
   "source": [
    "import requests, json\n",
    "from zipfile import ZipFile\n",
    "import pandas as pd\n",
    "import numpy as np\n",
    "import os\n",
    "import tabula as tb\n",
    "import camelot\n",
    "import PyPDF2"
   ]
  },
  {
   "cell_type": "code",
   "execution_count": null,
   "metadata": {},
   "outputs": [],
   "source": [
    "iteration = 3\n",
    "with open(\"json_urls.txt\",\"r\") as t_op:\n",
    "    for line in t_op.readlines():\n",
    "        try:\n",
    "            url = requests.get(line.replace(\"\\n\",\"\"))\n",
    "            text = url.text\n",
    "            data = json.loads(text)\n",
    "            out_file = f\"train{iteration}.json\"\n",
    "            json.dump(data, out_file, indent = 4, ensure_ascii=False)\n",
    "        except Exception as e:\n",
    "            print(e)"
   ]
  },
  {
   "cell_type": "code",
<<<<<<< HEAD
   "execution_count": 10,
=======
   "execution_count": 2,
>>>>>>> e3963085116764adaeb379a73ef787332142ae17
   "metadata": {},
   "outputs": [],
   "source": [
    "file = \"train6.zip\"\n",
    "with ZipFile(file, 'r') as zip:\n",
    "    zip.extractall()"
   ]
  },
  {
   "cell_type": "code",
<<<<<<< HEAD
   "execution_count": 21,
   "metadata": {},
   "outputs": [],
   "source": [
    "for file in os.listdir(\"train6\"):\n",
    "    data = PyPDF2.PdfFileReader(\"train6/\"+file)\n",
    "    #df = pd.DataFrame(data)"
   ]
  },
  {
   "cell_type": "code",
   "execution_count": 26,
=======
   "execution_count": 3,
>>>>>>> e3963085116764adaeb379a73ef787332142ae17
   "metadata": {},
   "outputs": [
    {
     "name": "stdout",
     "output_type": "stream",
     "text": [
      "RE PORT  C ONT AMI N AC I ÓN\n",
      "nº:\n",
      "81596\n",
      "FAC I LI T Y N AME:\n",
      "M illerhill Re cy cling &  E nergy Rec o v ery  Ce ntre\n",
      "81597\n",
      "Fac i l i ty I ns pi r eI D:\n",
      "UK.SEP A/2 0 0 0 0 2 6 5 1 .Facility\n",
      "C OUNT RY :\n",
      "United Kingdo m\n",
      "C ONT I N EN T :\n",
      "EUROP E\n",
      "C I T Y:\n",
      "M illerhill, D alkeith\n",
      "EPR T RSec tor C ode:\n",
      "5\n",
      "epr tr Sec tor N ame:\n",
      "Waste  and w aste wat er m anagem ent\n",
      "Mai nAc ti v i ty C ode:\n",
      "5 (b)\n",
      "tar g etR eal as e:\n",
      "AIR\n",
      "pol l utant:\n",
      "Carbo n diox ide (CO2 )\n",
      "emi s s i ons :\n",
      "1 ,3 2 E+ 0 8\n",
      "DA Y:\n",
      "4\n",
      "MONT H:\n",
      "12\n",
      "YEA R:\n",
      "2019\n",
      "MET EOROLOGI C AL  C ONDI T I ONS\n",
      "max_w i nd_s peed:\n",
      "2 ,0 9 E+ 1 5\n",
      "mi n_w i nd_s peed:\n",
      "2 ,4 6 E+ 1 6\n",
      "av g _w i nd_s peed:\n",
      "2 ,0 7 E+ 1 5\n",
      "max_temp:\n",
      "5 ,7 4 E+ 1 5\n",
      "mi n_temp:\n",
      "9 ,4 2 E+ 1 5\n",
      "av g _temp:\n",
      "7 ,3 1 E+ 1 5\n",
      "DA YS FOG:\n",
      "6\n",
      "RE PORT ER  N AME:\n",
      "Jaso n M o ses\n",
      "C I T Y_ I D\n",
      "c6 6 2 b4 b4 d8 5 9 a9 c2 2 4 b5 ac0 acf2 2 1 7 4 8\n",
      "\n"
     ]
    },
    {
     "ename": "AttributeError",
<<<<<<< HEAD
     "evalue": "'PageObject' object has no attribute 'head'",
=======
     "evalue": "module 'tabula' has no attribute 'read_pdf'",
>>>>>>> e3963085116764adaeb379a73ef787332142ae17
     "output_type": "error",
     "traceback": [
      "\u001b[1;31m---------------------------------------------------------------------------\u001b[0m",
      "\u001b[1;31mAttributeError\u001b[0m                            Traceback (most recent call last)",
<<<<<<< HEAD
      "\u001b[1;32m<ipython-input-26-f863af4229e6>\u001b[0m in \u001b[0;36m<module>\u001b[1;34m\u001b[0m\n\u001b[0;32m      6\u001b[0m \u001b[1;33m\u001b[0m\u001b[0m\n\u001b[0;32m      7\u001b[0m \u001b[0mprint\u001b[0m\u001b[1;33m(\u001b[0m\u001b[0mpageObj\u001b[0m\u001b[1;33m.\u001b[0m\u001b[0mextractText\u001b[0m\u001b[1;33m(\u001b[0m\u001b[1;33m)\u001b[0m\u001b[1;33m)\u001b[0m\u001b[1;33m\u001b[0m\u001b[1;33m\u001b[0m\u001b[0m\n\u001b[1;32m----> 8\u001b[1;33m \u001b[0mpageObj\u001b[0m\u001b[1;33m.\u001b[0m\u001b[0mhead\u001b[0m\u001b[1;33m(\u001b[0m\u001b[1;36m10\u001b[0m\u001b[1;33m)\u001b[0m\u001b[1;33m\u001b[0m\u001b[1;33m\u001b[0m\u001b[0m\n\u001b[0m",
      "\u001b[1;31mAttributeError\u001b[0m: 'PageObject' object has no attribute 'head'"
=======
      "\u001b[1;32m<ipython-input-3-b0f305e0f660>\u001b[0m in \u001b[0;36m<module>\u001b[1;34m\u001b[0m\n\u001b[0;32m      1\u001b[0m \u001b[1;32mfor\u001b[0m \u001b[0mfile\u001b[0m \u001b[1;32min\u001b[0m \u001b[0mos\u001b[0m\u001b[1;33m.\u001b[0m\u001b[0mlistdir\u001b[0m\u001b[1;33m(\u001b[0m\u001b[1;34m\"train6\"\u001b[0m\u001b[1;33m)\u001b[0m\u001b[1;33m:\u001b[0m\u001b[1;33m\u001b[0m\u001b[1;33m\u001b[0m\u001b[0m\n\u001b[1;32m----> 2\u001b[1;33m     \u001b[0mdata\u001b[0m \u001b[1;33m=\u001b[0m \u001b[0mtb\u001b[0m\u001b[1;33m.\u001b[0m\u001b[0mread_pdf\u001b[0m\u001b[1;33m(\u001b[0m\u001b[1;34m\"train6/\"\u001b[0m\u001b[1;33m+\u001b[0m\u001b[0mfile\u001b[0m\u001b[1;33m)\u001b[0m\u001b[1;33m\u001b[0m\u001b[1;33m\u001b[0m\u001b[0m\n\u001b[0m\u001b[0;32m      3\u001b[0m     \u001b[0mdf\u001b[0m \u001b[1;33m=\u001b[0m \u001b[0mpd\u001b[0m\u001b[1;33m.\u001b[0m\u001b[0mDataFrame\u001b[0m\u001b[1;33m(\u001b[0m\u001b[0mdata\u001b[0m\u001b[1;33m)\u001b[0m\u001b[1;33m\u001b[0m\u001b[1;33m\u001b[0m\u001b[0m\n",
      "\u001b[1;31mAttributeError\u001b[0m: module 'tabula' has no attribute 'read_pdf'"
>>>>>>> e3963085116764adaeb379a73ef787332142ae17
     ]
    }
   ],
   "source": [
    "#print(data)\n",
    "data.documentInfo\n",
    "pageObj = data.getPage(0)\n",
    " \n",
    "# extracting text from page\n",
    "\n",
    "print(pageObj.extractText())\n"
   ]
  }
 ],
 "metadata": {
  "interpreter": {
<<<<<<< HEAD
   "hash": "19d1d53a962d236aa061289c2ac16dc8e6d9648c89fe79f459ae9a3493bc67b4"
  },
  "kernelspec": {
   "display_name": "Python 3.8.10 ('base')",
=======
   "hash": "fce1d45328fd8024ce515f0ae0f0a25e82c54d2a05344803a525f4d98aa6e669"
  },
  "kernelspec": {
   "display_name": "Python 3.8.6 64-bit",
>>>>>>> e3963085116764adaeb379a73ef787332142ae17
   "language": "python",
   "name": "python3"
  },
  "language_info": {
   "codemirror_mode": {
    "name": "ipython",
    "version": 3
   },
   "file_extension": ".py",
   "mimetype": "text/x-python",
   "name": "python",
   "nbconvert_exporter": "python",
   "pygments_lexer": "ipython3",
<<<<<<< HEAD
   "version": "3.8.10"
=======
   "version": "3.8.6"
>>>>>>> e3963085116764adaeb379a73ef787332142ae17
  },
  "orig_nbformat": 4
 },
 "nbformat": 4,
 "nbformat_minor": 2
}
