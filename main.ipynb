{
 "cells": [
  {
   "cell_type": "code",
   "execution_count": 8,
   "metadata": {},
   "outputs": [],
   "source": [
    "import requests, json\n",
    "from zipfile import ZipFile\n",
    "import pandas as pd\n",
    "import numpy as np\n",
    "import os\n",
    "import tabula as tb\n",
    "import camelot\n",
    "import PyPDF2\n",
    "import decimal"
   ]
  },
  {
   "cell_type": "code",
   "execution_count": null,
   "metadata": {},
   "outputs": [],
   "source": [
    "iteration = 3\n",
    "with open(\"json_urls.txt\",\"r\") as t_op:\n",
    "    for line in t_op.readlines():\n",
    "        try:\n",
    "            url = requests.get(line.replace(\"\\n\",\"\"))\n",
    "            text = url.text\n",
    "            data = json.loads(text)\n",
    "            out_file = f\"train{iteration}.json\"\n",
    "            json.dump(data, out_file, indent = 4, ensure_ascii=False)\n",
    "        except Exception as e:\n",
    "            print(e)"
   ]
  },
  {
   "cell_type": "code",
   "execution_count": 10,
   "metadata": {},
   "outputs": [],
   "source": [
    "file = \"train6.zip\"\n",
    "with ZipFile(file, 'r') as zip:\n",
    "    zip.extractall()"
   ]
  },
  {
   "cell_type": "code",
   "execution_count": 9,
   "metadata": {},
   "outputs": [],
   "source": [
    "for file in os.listdir(\"train6\"):\n",
    "    data = PyPDF2.PdfFileReader(\"train6/\"+file)\n",
    "    #df = pd.DataFrame(data)"
   ]
  },
  {
   "cell_type": "code",
   "execution_count": 45,
   "metadata": {},
   "outputs": [
    {
     "name": "stdout",
     "output_type": "stream",
     "text": [
      "RE PORT  C ONT AMI N AC I ÓN\n",
      "Nº:\n",
      "81596\n",
      "FAC I LI T Y N AME:\n",
      "M ILLERHILL RE CY CLING &  E NERGY REC O V ERY  CE NTRE\n",
      "81597\n",
      "FAC I L I TY I NS PI R EI D:\n",
      "UK.SEP A/2 0 0 0 0 2 6 5 1 .FACILITY\n",
      "C OUNT RY :\n",
      "UNITED KINGDO M\n",
      "C ONT I N EN T :\n",
      "EUROP E\n",
      "C I T Y:\n",
      "M ILLERHILL, D ALKEITH\n",
      "EPR T RSEC TOR C ODE:\n",
      "5\n",
      "EPR TR SEC TOR N AME:\n",
      "WASTE  AND W ASTE WAT ER M ANAGEM ENT\n",
      "MAI NAC TI V I TY C ODE:\n",
      "5 (B)\n",
      "TAR G ETR EAL AS E:\n",
      "AIR\n",
      "POL L UTANT:\n",
      "CARBO N DIOX IDE (CO2 )\n",
      "EMI S S I ONS :\n",
      "1 ,3 2 E+ 0 8\n",
      "DA Y:\n",
      "4\n",
      "MONT H:\n",
      "12\n",
      "YEA R:\n",
      "2019\n",
      "MET EOROLOGI C AL  C ONDI T I ONS\n",
      "MAX_W I ND_S PEED:\n",
      "2 ,0 9 E+ 1 5\n",
      "MI N_W I ND_S PEED:\n",
      "2 ,4 6 E+ 1 6\n",
      "AV G _W I ND_S PEED:\n",
      "2 ,0 7 E+ 1 5\n",
      "MAX_TEMP:\n",
      "5 ,7 4 E+ 1 5\n",
      "MI N_TEMP:\n",
      "9 ,4 2 E+ 1 5\n",
      "AV G _TEMP:\n",
      "7 ,3 1 E+ 1 5\n",
      "DA YS FOG:\n",
      "6\n",
      "RE PORT ER  N AME:\n",
      "JASO N M O SES\n",
      "C I T Y_ I D\n",
      "C6 6 2 B4 B4 D8 5 9 A9 C2 2 4 B5 AC0 ACF2 2 1 7 4 8\n",
      "\n"
     ]
    }
   ],
   "source": [
    "#print(data)\n",
    "data.documentInfo\n",
    "pageObj = data.getPage(0)\n",
    " \n",
    "# extracting text from page\n",
    "aux=pageObj.extractText().upper()\n",
    "print(aux)\n"
   ]
  },
  {
   "cell_type": "code",
   "execution_count": 60,
   "metadata": {},
   "outputs": [],
   "source": [
    "\n",
    "def aux2dic(aux):\n",
    "    sv = False\n",
    "    res = {}\n",
    "    for line in aux.split(\"\\n\"):\n",
    "        if \":\" in line:\n",
    "            linea = line.replace(\":\",\"\").replace(\" \",\"\")\n",
    "            sv = True\n",
    "            t_n = linea\n",
    "            break\n",
    "        elif sv:\n",
    "            linea = line.replace(\":\",\"\").replace(\" \",\"\")\n",
    "            sv = False\n",
    "            dt = linea\n",
    "            try:\n",
    "                res[t_n] = int(dt)\n",
    "            except:\n",
    "                try:\n",
    "                    ds = dt.replace(',',\".\").split(\"E\")\n",
    "                    dk = float(ds[0])*(10**float(ds[1]))\n",
    "                    res[t_n] = dk\n",
    "                except:\n",
    "                    res[t_n] = dt\n",
    "            break\n",
    "    return res"
   ]
  },
  {
   "cell_type": "code",
   "execution_count": 61,
   "metadata": {},
   "outputs": [
    {
     "data": {
      "text/plain": [
       "{}"
      ]
     },
     "execution_count": 61,
     "metadata": {},
     "output_type": "execute_result"
    }
   ],
   "source": [
    "aux2dic(aux)"
   ]
  },
  {
   "cell_type": "code",
   "execution_count": null,
   "metadata": {},
   "outputs": [],
   "source": [
    "def str2tag(y):\n",
    "    dicY = {}\n",
    "    print(\"Creating dictionary\")\n",
    "    for i in tqdm(range(len(y))):\n",
    "        if y[i] not in dicY:\n",
    "            dicY[y[i]] = len(dicY)\n",
    "    print(dicY)\n",
    "    y2 = []\n",
    "    print(\"Changing y\")\n",
    "    for i in tqdm(y):\n",
    "        y2.append(dicY[i])\n",
    "    return y2, dicY"
   ]
  }
 ],
 "metadata": {
  "interpreter": {
   "hash": "19d1d53a962d236aa061289c2ac16dc8e6d9648c89fe79f459ae9a3493bc67b4"
  },
  "kernelspec": {
   "display_name": "Python 3.8.10 ('base')",
   "language": "python",
   "name": "python3"
  },
  "language_info": {
   "codemirror_mode": {
    "name": "ipython",
    "version": 3
   },
   "file_extension": ".py",
   "mimetype": "text/x-python",
   "name": "python",
   "nbconvert_exporter": "python",
   "pygments_lexer": "ipython3",
   "version": "3.8.10"
  },
  "orig_nbformat": 4
 },
 "nbformat": 4,
 "nbformat_minor": 2
}
