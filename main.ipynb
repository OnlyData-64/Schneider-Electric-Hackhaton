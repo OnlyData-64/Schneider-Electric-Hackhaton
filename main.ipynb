{
 "cells": [
  {
   "cell_type": "code",
   "execution_count": 8,
   "metadata": {},
   "outputs": [],
   "source": [
    "import requests, json\n",
    "from zipfile import ZipFile\n",
    "import pandas as pd\n",
    "import numpy as np\n",
    "import os\n",
    "import tabula as tb\n",
    "import camelot\n",
    "import PyPDF2\n",
    "import decimal"
   ]
  },
  {
   "cell_type": "code",
   "execution_count": null,
   "metadata": {},
   "outputs": [],
   "source": [
    "iteration = 3\n",
    "with open(\"json_urls.txt\",\"r\") as t_op:\n",
    "    for line in t_op.readlines():\n",
    "        try:\n",
    "            url = requests.get(line.replace(\"\\n\",\"\"))\n",
    "            text = url.text\n",
    "            data = json.loads(text)\n",
    "            out_file = f\"train{iteration}.json\"\n",
    "            json.dump(data, out_file, indent = 4, ensure_ascii=False)\n",
    "        except Exception as e:\n",
    "            print(e)"
   ]
  },
  {
   "cell_type": "code",
   "execution_count": 10,
   "metadata": {},
   "outputs": [],
   "source": [
    "file = \"train6.zip\"\n",
    "with ZipFile(file, 'r') as zip:\n",
    "    zip.extractall()"
   ]
  },
  {
   "cell_type": "code",
   "execution_count": 9,
   "metadata": {},
   "outputs": [],
   "source": [
    "for file in os.listdir(\"train6\"):\n",
    "    data = PyPDF2.PdfFileReader(\"train6/\"+file)\n",
    "    #df = pd.DataFrame(data)"
   ]
  },
  {
   "cell_type": "code",
   "execution_count": 16,
   "metadata": {},
   "outputs": [
    {
     "name": "stdout",
     "output_type": "stream",
     "text": [
      "RE PORT  C ONT AMI N AC I ÓN\n",
      "nº:\n",
      "81596\n",
      "FAC I LI T Y N AME:\n",
      "M illerhill Re cy cling &  E nergy Rec o v ery  Ce ntre\n",
      "81597\n",
      "Fac i l i ty I ns pi r eI D:\n",
      "UK.SEP A/2 0 0 0 0 2 6 5 1 .Facility\n",
      "C OUNT RY :\n",
      "United Kingdo m\n",
      "C ONT I N EN T :\n",
      "EUROP E\n",
      "C I T Y:\n",
      "M illerhill, D alkeith\n",
      "EPR T RSec tor C ode:\n",
      "5\n",
      "epr tr Sec tor N ame:\n",
      "Waste  and w aste wat er m anagem ent\n",
      "Mai nAc ti v i ty C ode:\n",
      "5 (b)\n",
      "tar g etR eal as e:\n",
      "AIR\n",
      "pol l utant:\n",
      "Carbo n diox ide (CO2 )\n",
      "emi s s i ons :\n",
      "1 ,3 2 E+ 0 8\n",
      "DA Y:\n",
      "4\n",
      "MONT H:\n",
      "12\n",
      "YEA R:\n",
      "2019\n",
      "MET EOROLOGI C AL  C ONDI T I ONS\n",
      "max_w i nd_s peed:\n",
      "2 ,0 9 E+ 1 5\n",
      "mi n_w i nd_s peed:\n",
      "2 ,4 6 E+ 1 6\n",
      "av g _w i nd_s peed:\n",
      "2 ,0 7 E+ 1 5\n",
      "max_temp:\n",
      "5 ,7 4 E+ 1 5\n",
      "mi n_temp:\n",
      "9 ,4 2 E+ 1 5\n",
      "av g _temp:\n",
      "7 ,3 1 E+ 1 5\n",
      "DA YS FOG:\n",
      "6\n",
      "RE PORT ER  N AME:\n",
      "Jaso n M o ses\n",
      "C I T Y_ I D\n",
      "c6 6 2 b4 b4 d8 5 9 a9 c2 2 4 b5 ac0 acf2 2 1 7 4 8\n",
      "\n"
     ]
    }
   ],
   "source": [
    "#print(data)\n",
    "data.documentInfo\n",
    "pageObj = data.getPage(0)\n",
    " \n",
    "# extracting text from page\n",
    "aux=pageObj.extractText()\n",
    "print(aux)\n"
   ]
  },
  {
   "cell_type": "code",
   "execution_count": 39,
   "metadata": {},
   "outputs": [],
   "source": [
    "def aux2dic(aux):\n",
    "    sv = False\n",
    "    res = {}\n",
    "    for line in aux.split(\"\\n\"):\n",
    "        if \":\" in line:\n",
    "            sv = True\n",
    "            t_n = line.replace(\":\",\"\").replace(\" \",\"\")\n",
    "        elif sv:\n",
    "            sv = False\n",
    "            dt = line.replace(\":\",\"\").replace(\" \",\"\")\n",
    "            try:\n",
    "                res[t_n] = int(dt)\n",
    "            except:\n",
    "                try:\n",
    "                    ds = dt.replace(',',\".\").split(\"E\")\n",
    "                    dk = float(ds[0])*(10**float(ds[1]))\n",
    "                    res[t_n] = dk\n",
    "                except:\n",
    "                    res[t_n] = dt\n",
    "    return res"
   ]
  },
  {
   "cell_type": "code",
   "execution_count": 40,
   "metadata": {},
   "outputs": [
    {
     "data": {
      "text/plain": [
       "{'nº': 81596,\n",
       " 'FACILITYNAME': 'MillerhillRecycling&EnergyRecoveryCentre',\n",
       " 'FacilityInspireID': 'UK.SEPA/200002651.Facility',\n",
       " 'COUNTRY': 'UnitedKingdom',\n",
       " 'CONTINENT': 'EUROPE',\n",
       " 'CITY': 'Millerhill,Dalkeith',\n",
       " 'EPRTRSectorCode': 5,\n",
       " 'eprtrSectorName': 'Wasteandwastewatermanagement',\n",
       " 'MainActivityCode': '5(b)',\n",
       " 'targetRealase': 'AIR',\n",
       " 'pollutant': 'Carbondioxide(CO2)',\n",
       " 'emissions': 132000000.0,\n",
       " 'DAY': 4,\n",
       " 'MONTH': 12,\n",
       " 'YEAR': 2019,\n",
       " 'max_wind_speed': 2089999999999999.8,\n",
       " 'min_wind_speed': 2.46e+16,\n",
       " 'avg_wind_speed': 2069999999999999.8,\n",
       " 'max_temp': 5740000000000000.0,\n",
       " 'min_temp': 9420000000000000.0,\n",
       " 'avg_temp': 7310000000000000.0,\n",
       " 'DAYSFOG': 6,\n",
       " 'REPORTERNAME': 'JasonMoses'}"
      ]
     },
     "execution_count": 40,
     "metadata": {},
     "output_type": "execute_result"
    }
   ],
   "source": [
    "aux2dic(aux)"
   ]
  }
 ],
 "metadata": {
  "interpreter": {
   "hash": "19d1d53a962d236aa061289c2ac16dc8e6d9648c89fe79f459ae9a3493bc67b4"
  },
  "kernelspec": {
   "display_name": "Python 3.8.10 ('base')",
   "language": "python",
   "name": "python3"
  },
  "language_info": {
   "codemirror_mode": {
    "name": "ipython",
    "version": 3
   },
   "file_extension": ".py",
   "mimetype": "text/x-python",
   "name": "python",
   "nbconvert_exporter": "python",
   "pygments_lexer": "ipython3",
   "version": "3.8.10"
  },
  "orig_nbformat": 4
 },
 "nbformat": 4,
 "nbformat_minor": 2
}
